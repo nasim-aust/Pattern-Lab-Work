{
 "cells": [
  {
   "cell_type": "markdown",
   "metadata": {},
   "source": [
    "# Pattern Project"
   ]
  },
  {
   "cell_type": "markdown",
   "metadata": {},
   "source": [
    "## Import Necessary Library"
   ]
  },
  {
   "cell_type": "code",
   "execution_count": 371,
   "metadata": {},
   "outputs": [],
   "source": [
    "import pandas as pd\n",
    "import numpy as np\n",
    "import glob\n",
    "import os\n",
    "from os import listdir\n",
    "from os.path import isfile, join\n",
    "import csv\n",
    "from sklearn.preprocessing import LabelEncoder\n",
    "import matplotlib.pyplot as plt\n",
    "\n",
    "#DecisionTreeClassifier\n",
    "from sklearn.tree import DecisionTreeClassifier\n",
    "\n",
    "#Gaussian Naive bayes\n",
    "from sklearn.naive_bayes import GaussianNB\n",
    "\n",
    "#svm with rbf karnel\n",
    "import sklearn\n",
    "from sklearn import svm, preprocessing\n",
    "#SVM\n",
    "from sklearn import datasets,svm\n",
    "from sklearn.cross_validation import train_test_split\n",
    "from sklearn import metrics\n",
    "#CN Matrix\n",
    "from sklearn.metrics import accuracy_score, confusion_matrix\n",
    "\n",
    "#Algo\n",
    "from sklearn.linear_model import LogisticRegression\n",
    "from sklearn.neighbors import KNeighborsClassifier\n",
    "from sklearn.naive_bayes import GaussianNB\n",
    "from sklearn.naive_bayes import BernoulliNB\n",
    "from sklearn.svm import SVC\n",
    "from sklearn.svm import LinearSVC\n",
    "from sklearn.ensemble import RandomForestClassifier\n",
    "from sklearn.tree import DecisionTreeRegressor\n",
    "from sklearn import model_selection"
   ]
  },
  {
   "cell_type": "markdown",
   "metadata": {},
   "source": [
    "## Import DataSet"
   ]
  },
  {
   "cell_type": "code",
   "execution_count": 162,
   "metadata": {},
   "outputs": [
    {
     "data": {
      "text/html": [
       "<div>\n",
       "<style scoped>\n",
       "    .dataframe tbody tr th:only-of-type {\n",
       "        vertical-align: middle;\n",
       "    }\n",
       "\n",
       "    .dataframe tbody tr th {\n",
       "        vertical-align: top;\n",
       "    }\n",
       "\n",
       "    .dataframe thead th {\n",
       "        text-align: right;\n",
       "    }\n",
       "</style>\n",
       "<table border=\"1\" class=\"dataframe\">\n",
       "  <thead>\n",
       "    <tr style=\"text-align: right;\">\n",
       "      <th></th>\n",
       "      <th>Unnamed: 0</th>\n",
       "      <th>Current Place</th>\n",
       "      <th>Unnamed: 2</th>\n",
       "      <th>Unnamed: 3</th>\n",
       "      <th>Place of interest</th>\n",
       "      <th>Unnamed: 5</th>\n",
       "      <th>Unnamed: 6</th>\n",
       "      <th>Food you like most</th>\n",
       "      <th>Leisure time activity</th>\n",
       "      <th>Future plan</th>\n",
       "      <th>Typically your days are started at:</th>\n",
       "    </tr>\n",
       "  </thead>\n",
       "  <tbody>\n",
       "    <tr>\n",
       "      <th>0</th>\n",
       "      <td>NaN</td>\n",
       "      <td>Place Name</td>\n",
       "      <td>Latitude</td>\n",
       "      <td>Longitude</td>\n",
       "      <td>Place Name</td>\n",
       "      <td>Latitude</td>\n",
       "      <td>Longitude</td>\n",
       "      <td>NaN</td>\n",
       "      <td>NaN</td>\n",
       "      <td>NaN</td>\n",
       "      <td>NaN</td>\n",
       "    </tr>\n",
       "    <tr>\n",
       "      <th>1</th>\n",
       "      <td>151340976.0</td>\n",
       "      <td>Goran</td>\n",
       "      <td>23.75027</td>\n",
       "      <td>90.43413</td>\n",
       "      <td>Cox's Bazar</td>\n",
       "      <td>21.41127</td>\n",
       "      <td>91.995891</td>\n",
       "      <td>Biriyani</td>\n",
       "      <td>Movies</td>\n",
       "      <td>Software Engineer</td>\n",
       "      <td>LR</td>\n",
       "    </tr>\n",
       "    <tr>\n",
       "      <th>2</th>\n",
       "      <td>151340977.0</td>\n",
       "      <td>Banasree</td>\n",
       "      <td>22.513531</td>\n",
       "      <td>88.301537</td>\n",
       "      <td>Sea Beach</td>\n",
       "      <td>NaN</td>\n",
       "      <td>NaN</td>\n",
       "      <td>Kachchi</td>\n",
       "      <td>Sports</td>\n",
       "      <td>BCS/Business</td>\n",
       "      <td>LR</td>\n",
       "    </tr>\n",
       "    <tr>\n",
       "      <th>3</th>\n",
       "      <td>151340978.0</td>\n",
       "      <td>Azimpur</td>\n",
       "      <td>23.7270399</td>\n",
       "      <td>90.3846895</td>\n",
       "      <td>Kaptai Lake</td>\n",
       "      <td>22.755208</td>\n",
       "      <td>92.277031</td>\n",
       "      <td>kacchi biryani</td>\n",
       "      <td>Series</td>\n",
       "      <td>Higher Study in North America</td>\n",
       "      <td>ER</td>\n",
       "    </tr>\n",
       "    <tr>\n",
       "      <th>4</th>\n",
       "      <td>151340980.0</td>\n",
       "      <td>Niketon</td>\n",
       "      <td>23.70731</td>\n",
       "      <td>90.41548</td>\n",
       "      <td>home</td>\n",
       "      <td>23.70731</td>\n",
       "      <td>90.41548</td>\n",
       "      <td>any</td>\n",
       "      <td>movies,music</td>\n",
       "      <td>software Engineer</td>\n",
       "      <td>LR</td>\n",
       "    </tr>\n",
       "  </tbody>\n",
       "</table>\n",
       "</div>"
      ],
      "text/plain": [
       "    Unnamed: 0 Current Place  Unnamed: 2  Unnamed: 3 Place of interest  \\\n",
       "0          NaN    Place Name    Latitude   Longitude        Place Name   \n",
       "1  151340976.0         Goran    23.75027    90.43413       Cox's Bazar   \n",
       "2  151340977.0      Banasree   22.513531   88.301537         Sea Beach   \n",
       "3  151340978.0       Azimpur  23.7270399  90.3846895       Kaptai Lake   \n",
       "4  151340980.0       Niketon    23.70731    90.41548              home   \n",
       "\n",
       "  Unnamed: 5 Unnamed: 6 Food you like most Leisure time activity  \\\n",
       "0   Latitude  Longitude                NaN                   NaN   \n",
       "1   21.41127  91.995891           Biriyani                Movies   \n",
       "2        NaN        NaN            Kachchi                Sports   \n",
       "3  22.755208  92.277031     kacchi biryani                Series   \n",
       "4   23.70731   90.41548                any          movies,music   \n",
       "\n",
       "                     Future plan Typically your days are started at:  \n",
       "0                            NaN                                 NaN  \n",
       "1              Software Engineer                                  LR  \n",
       "2                   BCS/Business                                  LR  \n",
       "3  Higher Study in North America                                  ER  \n",
       "4              software Engineer                                  LR  "
      ]
     },
     "execution_count": 162,
     "metadata": {},
     "output_type": "execute_result"
    }
   ],
   "source": [
    "dataFrame0 = pd.read_csv(\"F:/python/4.2/project/main/dataset/DATASET_01.csv\")\n",
    "dataFrame1 = pd.read_csv(\"F:/python/4.2/project/main/dataset/DATASET_02.csv\")\n",
    "dataFrame2 = pd.read_csv(\"F:/python/4.2/project/main/dataset/DATASET_03.csv\")\n",
    "dataFrame3 = pd.read_csv(\"F:/python/4.2/project/main/dataset/DATASET_04.csv\")\n",
    "dataFrame4 = pd.read_csv(\"F:/python/4.2/project/main/dataset/DATASET_05.csv\")\n",
    "dataFrame5 = pd.read_csv(\"F:/python/4.2/project/main/dataset/DATASET_06.csv\")\n",
    "\n",
    "dataFrame0.head()\n",
    "#dataFrame1.head()\n",
    "#dataFrame2.head()\n",
    "#dataFrame3.head()\n",
    "#dataFrame4.head()\n",
    "#dataFrame5.head()"
   ]
  },
  {
   "cell_type": "markdown",
   "metadata": {},
   "source": [
    "## Dataset Concatenate"
   ]
  },
  {
   "cell_type": "code",
   "execution_count": 165,
   "metadata": {},
   "outputs": [],
   "source": [
    "#path = \"F:/python/4.2/project/main/dataset/\"\n",
    "#filenames = [path+'DATASET_01.csv', 'dataset/DATASET_02.csv', 'dataset/DATASET_03.csv', 'dataset/DATASET_04.csv',\n",
    " #           'dataset/DATASET_05.csv', 'dataset/DATASET_06.csv']\n",
    "\n",
    "#dataFrames = []\n",
    "#for f in filenames:\n",
    "#    dataFrames.append(pd.read_csv(f))\n",
    "#outputFile = \"dataset/finalData/finalData.csv\"\n",
    "#data_dir= glob.glob(os.path.join(path, '*.csv'))\n",
    "#print(os.listdir(data_dir))"
   ]
  },
  {
   "cell_type": "code",
   "execution_count": 62,
   "metadata": {},
   "outputs": [],
   "source": [
    "#filenames = glob('dataset/DATASET*.csv')\n",
    "#dataFrames = [pd.read_csv(f) for f in filenames]"
   ]
  },
  {
   "cell_type": "code",
   "execution_count": 201,
   "metadata": {},
   "outputs": [
    {
     "name": "stdout",
     "output_type": "stream",
     "text": [
      "DATASET_01.csv\n",
      "DATASET_02.csv\n",
      "DATASET_03.csv\n",
      "DATASET_04.csv\n",
      "DATASET_05.csv\n",
      "DATASET_06.csv\n"
     ]
    }
   ],
   "source": [
    "def concatenate (indir = \"F:/python/4.2/project/main/dataset/\", outfile = \"F:/python/4.2/project/main/dataset/Total/TotalfinalData.csv\"):\n",
    "    #os.chdir(indir)\n",
    "    #fileList = glob.glob(indir+\"*.csv\")\n",
    "    fileList = [f for f in listdir(indir) if isfile(join(indir, f))]\n",
    "    dfList = []\n",
    "    #colnames=[\"ID\"]\n",
    "    for filename in fileList:\n",
    "        print(filename)\n",
    "        df = pd.read_csv(filename, header= None)\n",
    "        dfList.append(df)\n",
    "    concateDf= pd.concat(dfList, axis=0)\n",
    "    concateDf.to_csv(outfile, index = None)\n",
    "concatenate()"
   ]
  },
  {
   "cell_type": "markdown",
   "metadata": {},
   "source": [
    "### Column Add from other Dataset"
   ]
  },
  {
   "cell_type": "code",
   "execution_count": 212,
   "metadata": {},
   "outputs": [],
   "source": [
    "# Loading data and preprocessing\n",
    "filePath1 = \"F:/python/4.2/project/main/dataset/Total/TotalfinalData_1.csv\"\n",
    "filePath2 = \"F:/python/4.2/project/main/extra/EXTENDED_1.csv\"\n",
    "mergedFile = \"F:/python/4.2/project/main/dataset/Total/TotalfinalData_3.csv\"\n",
    "\n",
    "df1 = pd.read_csv(filePath1)\n",
    "df2 = pd.read_csv(filePath2)\n",
    "columnsNeed = [\"ID\", \"AcademicResult\", \"Co_curri\", \"Skill\",\"Achi\",\"Physical\",\"Higher\"]\n",
    "for column in df2.columns:\n",
    "    dropChecker = True\n",
    "    for colName in columnsNeed:\n",
    "        if column == colName:\n",
    "            dropChecker = False\n",
    "            break\n",
    "\n",
    "    if dropChecker == True:\n",
    "        df2.drop(column, axis=1, inplace=True)\n",
    "\n",
    "merged = df1.merge(df2, on=\"ID\")\n",
    "# for column in df1\n",
    "merged.to_csv(mergedFile, index=False)\n",
    "\n",
    "data_frame = pd.read_csv(\"F:/python/4.2/project/main/dataset/Total/TotalfinalData_final.csv\", usecols=[1,2,3,8,9,11,12,13,14])"
   ]
  },
  {
   "cell_type": "markdown",
   "metadata": {},
   "source": [
    "## Dataset Processed"
   ]
  },
  {
   "cell_type": "code",
   "execution_count": 206,
   "metadata": {},
   "outputs": [
    {
     "data": {
      "text/html": [
       "<div>\n",
       "<style scoped>\n",
       "    .dataframe tbody tr th:only-of-type {\n",
       "        vertical-align: middle;\n",
       "    }\n",
       "\n",
       "    .dataframe tbody tr th {\n",
       "        vertical-align: top;\n",
       "    }\n",
       "\n",
       "    .dataframe thead th {\n",
       "        text-align: right;\n",
       "    }\n",
       "</style>\n",
       "<table border=\"1\" class=\"dataframe\">\n",
       "  <thead>\n",
       "    <tr style=\"text-align: right;\">\n",
       "      <th></th>\n",
       "      <th>OLat</th>\n",
       "      <th>OLong</th>\n",
       "      <th>PI</th>\n",
       "      <th>PILat</th>\n",
       "      <th>PIlong</th>\n",
       "      <th>Food</th>\n",
       "      <th>Leisure</th>\n",
       "      <th>FP</th>\n",
       "      <th>LR</th>\n",
       "      <th>AcademicResult</th>\n",
       "      <th>Co_curri</th>\n",
       "      <th>Skill</th>\n",
       "      <th>Achi</th>\n",
       "      <th>Physical</th>\n",
       "      <th>Higher</th>\n",
       "    </tr>\n",
       "  </thead>\n",
       "  <tbody>\n",
       "    <tr>\n",
       "      <th>1</th>\n",
       "      <td>23.75027</td>\n",
       "      <td>90.43413</td>\n",
       "      <td>Cox's Bazar</td>\n",
       "      <td>21.41127</td>\n",
       "      <td>91.995891</td>\n",
       "      <td>Biriyani</td>\n",
       "      <td>Movies</td>\n",
       "      <td>Software Engineer</td>\n",
       "      <td>LR</td>\n",
       "      <td>3.13</td>\n",
       "      <td>None</td>\n",
       "      <td>None</td>\n",
       "      <td>1.0</td>\n",
       "      <td>Yes</td>\n",
       "      <td>No</td>\n",
       "    </tr>\n",
       "    <tr>\n",
       "      <th>2</th>\n",
       "      <td>22.513531</td>\n",
       "      <td>88.301537</td>\n",
       "      <td>Cox's Bazar</td>\n",
       "      <td>20.9232</td>\n",
       "      <td>92.2676</td>\n",
       "      <td>Biriyani</td>\n",
       "      <td>Sports</td>\n",
       "      <td>BCS/Business</td>\n",
       "      <td>LR</td>\n",
       "      <td>2.71</td>\n",
       "      <td>None</td>\n",
       "      <td>Web Development</td>\n",
       "      <td>5.0</td>\n",
       "      <td>Yes</td>\n",
       "      <td>Yes</td>\n",
       "    </tr>\n",
       "    <tr>\n",
       "      <th>3</th>\n",
       "      <td>23.7270399</td>\n",
       "      <td>90.3846895</td>\n",
       "      <td>Kaptai Lake</td>\n",
       "      <td>22.755208</td>\n",
       "      <td>92.277031</td>\n",
       "      <td>Biriyani</td>\n",
       "      <td>Series</td>\n",
       "      <td>Higher Study in North America</td>\n",
       "      <td>ER</td>\n",
       "      <td>3.59</td>\n",
       "      <td>Club committee</td>\n",
       "      <td>None</td>\n",
       "      <td>2.0</td>\n",
       "      <td>Yes</td>\n",
       "      <td>No</td>\n",
       "    </tr>\n",
       "    <tr>\n",
       "      <th>4</th>\n",
       "      <td>23.70731</td>\n",
       "      <td>90.41548</td>\n",
       "      <td>home</td>\n",
       "      <td>23.70731</td>\n",
       "      <td>90.41548</td>\n",
       "      <td>any</td>\n",
       "      <td>Movies, Music</td>\n",
       "      <td>Software Engineer</td>\n",
       "      <td>LR</td>\n",
       "      <td>2.92</td>\n",
       "      <td>None</td>\n",
       "      <td>None</td>\n",
       "      <td>1.0</td>\n",
       "      <td>Yes</td>\n",
       "      <td>No</td>\n",
       "    </tr>\n",
       "    <tr>\n",
       "      <th>5</th>\n",
       "      <td>22.301411</td>\n",
       "      <td>70.822357</td>\n",
       "      <td>home</td>\n",
       "      <td>22.301411</td>\n",
       "      <td>70.822357</td>\n",
       "      <td>Sea food</td>\n",
       "      <td>Music</td>\n",
       "      <td>Businessman</td>\n",
       "      <td>LR</td>\n",
       "      <td>2.53</td>\n",
       "      <td>None</td>\n",
       "      <td>Java</td>\n",
       "      <td>3.0</td>\n",
       "      <td>No</td>\n",
       "      <td>Yes</td>\n",
       "    </tr>\n",
       "  </tbody>\n",
       "</table>\n",
       "</div>"
      ],
      "text/plain": [
       "         OLat       OLong           PI      PILat     PIlong      Food  \\\n",
       "1    23.75027    90.43413  Cox's Bazar   21.41127  91.995891  Biriyani   \n",
       "2   22.513531   88.301537  Cox's Bazar    20.9232    92.2676  Biriyani   \n",
       "3  23.7270399  90.3846895  Kaptai Lake  22.755208  92.277031  Biriyani   \n",
       "4    23.70731    90.41548         home   23.70731   90.41548       any   \n",
       "5   22.301411   70.822357         home  22.301411  70.822357  Sea food   \n",
       "\n",
       "         Leisure                             FP  LR  AcademicResult  \\\n",
       "1         Movies              Software Engineer  LR            3.13   \n",
       "2         Sports                   BCS/Business  LR            2.71   \n",
       "3         Series  Higher Study in North America  ER            3.59   \n",
       "4  Movies, Music              Software Engineer  LR            2.92   \n",
       "5          Music                    Businessman  LR            2.53   \n",
       "\n",
       "         Co_curri            Skill  Achi Physical Higher  \n",
       "1            None             None   1.0      Yes     No  \n",
       "2            None  Web Development   5.0      Yes    Yes  \n",
       "3  Club committee             None   2.0      Yes     No  \n",
       "4            None             None   1.0      Yes     No  \n",
       "5            None             Java   3.0       No    Yes  "
      ]
     },
     "execution_count": 206,
     "metadata": {},
     "output_type": "execute_result"
    }
   ],
   "source": [
    "cols = [\"ID\", \"Name\", \"OLat\", \"OLong\",\"PI\", \"PILat\", \"PIlong\", \"Food\", \"Leisure\", \"FP\",\"LR\",\"AcademicResult\", \"Co_curri\", \"Skill\", \"Achi\", \"Physical\", \"Higher\"]\n",
    "df = pd.read_csv(\"F:/python/4.2/project/main/dataset/Total/TotalfinalData_final.csv\",)\n",
    "df.columns = [''] * len(df.columns)\n",
    "df = df[1:]\n",
    "df.reset_index(drop=True)\n",
    "df.columns = cols\n",
    "\n",
    "df.drop(['Name'], axis = 1, inplace = True)\n",
    "df.drop(['ID'], axis = 1, inplace = True)\n",
    "df.head()"
   ]
  },
  {
   "cell_type": "markdown",
   "metadata": {},
   "source": [
    "## Label the Dataset "
   ]
  },
  {
   "cell_type": "code",
   "execution_count": 238,
   "metadata": {},
   "outputs": [
    {
     "data": {
      "text/html": [
       "<div>\n",
       "<style scoped>\n",
       "    .dataframe tbody tr th:only-of-type {\n",
       "        vertical-align: middle;\n",
       "    }\n",
       "\n",
       "    .dataframe tbody tr th {\n",
       "        vertical-align: top;\n",
       "    }\n",
       "\n",
       "    .dataframe thead th {\n",
       "        text-align: right;\n",
       "    }\n",
       "</style>\n",
       "<table border=\"1\" class=\"dataframe\">\n",
       "  <thead>\n",
       "    <tr style=\"text-align: right;\">\n",
       "      <th></th>\n",
       "      <th>OLat</th>\n",
       "      <th>OLong</th>\n",
       "      <th>PI</th>\n",
       "      <th>PILat</th>\n",
       "      <th>PIlong</th>\n",
       "      <th>Food</th>\n",
       "      <th>Leisure</th>\n",
       "      <th>FP</th>\n",
       "      <th>LR</th>\n",
       "      <th>AcademicResult</th>\n",
       "      <th>Co_curri</th>\n",
       "      <th>Skill</th>\n",
       "      <th>Achi</th>\n",
       "      <th>Physical</th>\n",
       "      <th>Higher</th>\n",
       "    </tr>\n",
       "  </thead>\n",
       "  <tbody>\n",
       "    <tr>\n",
       "      <th>29</th>\n",
       "      <td>23.828959</td>\n",
       "      <td>90.375672</td>\n",
       "      <td>33</td>\n",
       "      <td>48.856613</td>\n",
       "      <td>2.352222</td>\n",
       "      <td>44</td>\n",
       "      <td>4</td>\n",
       "      <td>35</td>\n",
       "      <td>1</td>\n",
       "      <td>3.41</td>\n",
       "      <td>1</td>\n",
       "      <td>2</td>\n",
       "      <td>3.0</td>\n",
       "      <td>1</td>\n",
       "      <td>1</td>\n",
       "    </tr>\n",
       "    <tr>\n",
       "      <th>105</th>\n",
       "      <td>23.7325976</td>\n",
       "      <td>90.4025838</td>\n",
       "      <td>45</td>\n",
       "      <td>40.463669</td>\n",
       "      <td>-3.74922</td>\n",
       "      <td>38</td>\n",
       "      <td>42</td>\n",
       "      <td>31</td>\n",
       "      <td>1</td>\n",
       "      <td>3.36</td>\n",
       "      <td>1</td>\n",
       "      <td>0</td>\n",
       "      <td>3.0</td>\n",
       "      <td>1</td>\n",
       "      <td>1</td>\n",
       "    </tr>\n",
       "    <tr>\n",
       "      <th>108</th>\n",
       "      <td>23.738078</td>\n",
       "      <td>90.372485</td>\n",
       "      <td>9</td>\n",
       "      <td>21.43392</td>\n",
       "      <td>91.98703</td>\n",
       "      <td>47</td>\n",
       "      <td>39</td>\n",
       "      <td>14</td>\n",
       "      <td>1</td>\n",
       "      <td>3.07</td>\n",
       "      <td>1</td>\n",
       "      <td>0</td>\n",
       "      <td>1.0</td>\n",
       "      <td>0</td>\n",
       "      <td>0</td>\n",
       "    </tr>\n",
       "    <tr>\n",
       "      <th>43</th>\n",
       "      <td>20.53829</td>\n",
       "      <td>86.30937</td>\n",
       "      <td>1</td>\n",
       "      <td>21.8311</td>\n",
       "      <td>92.368629</td>\n",
       "      <td>20</td>\n",
       "      <td>20</td>\n",
       "      <td>27</td>\n",
       "      <td>1</td>\n",
       "      <td>2.89</td>\n",
       "      <td>1</td>\n",
       "      <td>1</td>\n",
       "      <td>2.0</td>\n",
       "      <td>0</td>\n",
       "      <td>0</td>\n",
       "    </tr>\n",
       "    <tr>\n",
       "      <th>57</th>\n",
       "      <td>20.53829</td>\n",
       "      <td>86.30937</td>\n",
       "      <td>36</td>\n",
       "      <td>20.6237016</td>\n",
       "      <td>92.3233948</td>\n",
       "      <td>9</td>\n",
       "      <td>45</td>\n",
       "      <td>33</td>\n",
       "      <td>1</td>\n",
       "      <td>3.07</td>\n",
       "      <td>1</td>\n",
       "      <td>4</td>\n",
       "      <td>2.0</td>\n",
       "      <td>0</td>\n",
       "      <td>0</td>\n",
       "    </tr>\n",
       "  </tbody>\n",
       "</table>\n",
       "</div>"
      ],
      "text/plain": [
       "           OLat       OLong  PI       PILat      PIlong  Food  Leisure  FP  \\\n",
       "29    23.828959   90.375672  33   48.856613    2.352222    44        4  35   \n",
       "105  23.7325976  90.4025838  45   40.463669    -3.74922    38       42  31   \n",
       "108   23.738078   90.372485   9    21.43392    91.98703    47       39  14   \n",
       "43     20.53829    86.30937   1     21.8311   92.368629    20       20  27   \n",
       "57     20.53829    86.30937  36  20.6237016  92.3233948     9       45  33   \n",
       "\n",
       "     LR  AcademicResult  Co_curri  Skill  Achi  Physical  Higher  \n",
       "29    1            3.41         1      2   3.0         1       1  \n",
       "105   1            3.36         1      0   3.0         1       1  \n",
       "108   1            3.07         1      0   1.0         0       0  \n",
       "43    1            2.89         1      1   2.0         0       0  \n",
       "57    1            3.07         1      4   2.0         0       0  "
      ]
     },
     "execution_count": 238,
     "metadata": {},
     "output_type": "execute_result"
    }
   ],
   "source": [
    "df.dropna(axis = 0, inplace = True)\n",
    "lb_make = LabelEncoder()\n",
    "df[\"PI\"] = lb_make.fit_transform(df[\"PI\"])\n",
    "df[\"Food\"] = lb_make.fit_transform(df[\"Food\"])\n",
    "df[\"Leisure\"] = lb_make.fit_transform(df[\"Leisure\"])\n",
    "df[\"FP\"] = lb_make.fit_transform(df[\"FP\"])\n",
    "df[\"LR\"] = lb_make.fit_transform(df[\"LR\"])\n",
    "df[\"Co_curri\"] = lb_make.fit_transform(df[\"Co_curri\"])\n",
    "df[\"Skill\"] = lb_make.fit_transform(df[\"Skill\"])\n",
    "df[\"Physical\"] = lb_make.fit_transform(df[\"Physical\"])\n",
    "df[\"Higher\"] = lb_make.fit_transform(df[\"Higher\"])\n",
    "df.head()"
   ]
  },
  {
   "cell_type": "markdown",
   "metadata": {},
   "source": [
    "## Classifier - Problem 1"
   ]
  },
  {
   "cell_type": "code",
   "execution_count": 239,
   "metadata": {},
   "outputs": [],
   "source": [
    "df = sklearn.utils.shuffle(df)\n",
    "x = df.drop(\"Higher\",axis = 1).values\n",
    "y = df[\"Higher\"].values"
   ]
  },
  {
   "cell_type": "markdown",
   "metadata": {},
   "source": [
    "### Decision Tree - Accuracy Test"
   ]
  },
  {
   "cell_type": "code",
   "execution_count": 253,
   "metadata": {},
   "outputs": [
    {
     "data": {
      "text/plain": [
       "0.46153846153846156"
      ]
     },
     "execution_count": 253,
     "metadata": {},
     "output_type": "execute_result"
    }
   ],
   "source": [
    "test_size = int(0.2*len(x))\n",
    "train_x = x[:-test_size]\n",
    "train_y = y[:-test_size]\n",
    "test_x = x[-test_size:]\n",
    "test_y = y[-test_size:]\n",
    "\n",
    "clf = DecisionTreeClassifier()\n",
    "clf.fit(train_x, train_y)\n",
    "clf.score(test_x, test_y)\n",
    "\n",
    "#print(clf.predict([train_x[7]]))"
   ]
  },
  {
   "cell_type": "markdown",
   "metadata": {},
   "source": [
    "### Test single Data - Decision Tree"
   ]
  },
  {
   "cell_type": "code",
   "execution_count": 225,
   "metadata": {},
   "outputs": [
    {
     "name": "stdout",
     "output_type": "stream",
     "text": [
      "[1]\n"
     ]
    }
   ],
   "source": [
    "print(clf.predict([train_x[6]]))\n",
    "#1-Yes, 0 -No"
   ]
  },
  {
   "cell_type": "markdown",
   "metadata": {},
   "source": [
    "### Gaussian Naive Bayes - Accuracy Test"
   ]
  },
  {
   "cell_type": "code",
   "execution_count": 231,
   "metadata": {},
   "outputs": [
    {
     "data": {
      "text/plain": [
       "0.65384615384615385"
      ]
     },
     "execution_count": 231,
     "metadata": {},
     "output_type": "execute_result"
    }
   ],
   "source": [
    "#Gaussian Naive bayes\n",
    "clf = GaussianNB()\n",
    "clf.fit(train_x, train_y)\n",
    "clf.score(test_x, test_y)"
   ]
  },
  {
   "cell_type": "markdown",
   "metadata": {},
   "source": [
    "### Bernouli Naive Bayes"
   ]
  },
  {
   "cell_type": "code",
   "execution_count": 332,
   "metadata": {},
   "outputs": [
    {
     "name": "stdout",
     "output_type": "stream",
     "text": [
      "9\n",
      "56.25\n"
     ]
    }
   ],
   "source": [
    "from sklearn.naive_bayes import BernoulliNB\n",
    "model1=BernoulliNB()\n",
    "model1.fit(X_train,y_train)\n",
    "predict1=model1.predict(X_test)\n",
    "x=y_test.iloc[:].values\n",
    "\n",
    "length1=len(predict1)\n",
    "correct1=0\n",
    "for i in range(length1):\n",
    "    if(x[i]==predict1[i]):\n",
    "        correct1=correct1+1\n",
    "print(correct1)\n",
    "\n",
    "accuracy1=correct1*100/len(x)\n",
    "print(accuracy1)"
   ]
  },
  {
   "cell_type": "code",
   "execution_count": 333,
   "metadata": {},
   "outputs": [
    {
     "name": "stdout",
     "output_type": "stream",
     "text": [
      "[[0 7 0]\n",
      " [0 9 0]\n",
      " [0 0 0]]\n"
     ]
    },
    {
     "data": {
      "image/png": "[encoded data removed]",
      "text/plain": [
       "<Figure size 432x288 with 1 Axes>"
      ]
     },
     "metadata": {},
     "output_type": "display_data"
    }
   ],
   "source": [
    "print(metrics.confusion_matrix(y_test,predict1,labels=[0,1,2]))\n",
    "cm=metrics.confusion_matrix(y_test,predict1,labels=[0,1,2])\n",
    "fig = plt.figure()\n",
    "ax = fig.add_subplot(111)\n",
    "cax = ax.matshow(cm)\n",
    "plt.title('Confussion Matrix for Bernoulli Naive Bayes')\n",
    "plt.xlabel('Prediction')\n",
    "plt.ylabel('True')\n",
    "plt.show()"
   ]
  },
  {
   "cell_type": "markdown",
   "metadata": {},
   "source": [
    "### svm with rbf kernel"
   ]
  },
  {
   "cell_type": "code",
   "execution_count": 261,
   "metadata": {},
   "outputs": [
    {
     "name": "stderr",
     "output_type": "stream",
     "text": [
      "C:\\Users\\nasim\\Anaconda3\\envs\\workshop\\lib\\site-packages\\sklearn\\utils\\validation.py:475: DataConversionWarning: Data with input dtype object was converted to float64 by the scale function.\n",
      "  warnings.warn(msg, DataConversionWarning)\n"
     ]
    },
    {
     "data": {
      "text/plain": [
       "0.40339571140762054"
      ]
     },
     "execution_count": 261,
     "metadata": {},
     "output_type": "execute_result"
    }
   ],
   "source": [
    "#svm with rbf karnel\n",
    "df = sklearn.utils.shuffle(df)\n",
    "x = df.drop(\"Higher\",axis = 1).values\n",
    "y = df[\"Higher\"].values\n",
    "\n",
    "x = preprocessing.scale(x)\n",
    "test_size = int(0.2*len(x))\n",
    "train_x = x[:-test_size]\n",
    "train_y = y[:-test_size]\n",
    "test_x = x[-test_size:]\n",
    "test_y = y[-test_size:]\n",
    "\n",
    "clf = svm.SVR(kernel = \"rbf\")\n",
    "clf.fit(train_x, train_y)\n",
    "abs(clf.score(test_x, test_y))"
   ]
  },
  {
   "cell_type": "markdown",
   "metadata": {},
   "source": [
    "### SVM"
   ]
  },
  {
   "cell_type": "code",
   "execution_count": 325,
   "metadata": {},
   "outputs": [
    {
     "data": {
      "text/plain": [
       "SVC(C=1.0, cache_size=200, class_weight=None, coef0=0.0,\n",
       "  decision_function_shape='ovr', degree=3, gamma='auto', kernel='linear',\n",
       "  max_iter=-1, probability=False, random_state=None, shrinking=True,\n",
       "  tol=0.001, verbose=False)"
      ]
     },
     "execution_count": 325,
     "metadata": {},
     "output_type": "execute_result"
    }
   ],
   "source": [
    "X=df.drop('Higher',axis=1)\n",
    "y=df['Higher']\n",
    "X_train,X_test,y_train,y_test=train_test_split(X,y,test_size=0.12)\n",
    "\n",
    "model=svm.SVC(kernel='linear')\n",
    "model.fit(X_train,y_train)"
   ]
  },
  {
   "cell_type": "code",
   "execution_count": 330,
   "metadata": {},
   "outputs": [
    {
     "name": "stdout",
     "output_type": "stream",
     "text": [
      "9\n",
      "56.25\n"
     ]
    }
   ],
   "source": [
    "predict=model.predict(X_test)\n",
    "x=y_test.iloc[:].values\n",
    "length=len(predict)\n",
    "\n",
    "correct=0\n",
    "for i in range(length):\n",
    "    if(predict[i]==x[i]):\n",
    "        correct+=1\n",
    "print(correct)\n",
    "\n",
    "accuracy=correct*100/len(x)\n",
    "print(accuracy)"
   ]
  },
  {
   "cell_type": "code",
   "execution_count": 331,
   "metadata": {},
   "outputs": [
    {
     "name": "stdout",
     "output_type": "stream",
     "text": [
      "[[2 5 0]\n",
      " [2 7 0]\n",
      " [0 0 0]]\n"
     ]
    },
    {
     "data": {
      "image/png": "[encoded data removed]",
      "text/plain": [
       "<Figure size 432x288 with 1 Axes>"
      ]
     },
     "metadata": {},
     "output_type": "display_data"
    }
   ],
   "source": [
    "#print(\"{0}\".format(metrics.confusion_matrix(y_test,predict,labels=[0,1,2])))\n",
    "print(metrics.confusion_matrix(y_test,predict,labels=[0,1,2]))\n",
    "cm=metrics.confusion_matrix(y_test,predict,labels=[0,1,2])\n",
    "fig = plt.figure()\n",
    "ax = fig.add_subplot(111)\n",
    "cax = ax.matshow(cm)\n",
    "plt.title('Confussion Matrix for SVM')\n",
    "plt.xlabel('Prediction')\n",
    "plt.ylabel('True')\n",
    "plt.show() "
   ]
  },
  {
   "cell_type": "markdown",
   "metadata": {},
   "source": [
    "### Random Forest Classifier"
   ]
  },
  {
   "cell_type": "code",
   "execution_count": 356,
   "metadata": {},
   "outputs": [
    {
     "name": "stdout",
     "output_type": "stream",
     "text": [
      "9\n",
      "56.25\n"
     ]
    }
   ],
   "source": [
    "model=RandomForestClassifier()\n",
    "mode2=DecisionTreeRegressor()\n",
    "\n",
    "model.fit(X_train,y_train)\n",
    "mode2.fit(X_train,y_train)\n",
    "\n",
    "predict3=model3.predict(X_test)\n",
    "predict4=model4.predict(X_test)\n",
    "\n",
    "length3=len(predict3)\n",
    "correct3=0\n",
    "for i in range(length3):\n",
    "    if(x[i]==predict3[i]):\n",
    "        correct3=correct3+1\n",
    "print(correct3)\n",
    "accuracy3=correct3*100/len(x)\n",
    "print(accuracy3)\n"
   ]
  },
  {
   "cell_type": "code",
   "execution_count": 335,
   "metadata": {},
   "outputs": [
    {
     "name": "stdout",
     "output_type": "stream",
     "text": [
      "[[0 7 0]\n",
      " [2 7 0]\n",
      " [0 0 0]]\n"
     ]
    },
    {
     "data": {
      "image/png": "[encoded data removed]",
      "text/plain": [
       "<Figure size 432x288 with 1 Axes>"
      ]
     },
     "metadata": {},
     "output_type": "display_data"
    }
   ],
   "source": [
    "print(metrics.confusion_matrix(y_test,predict3,labels=[0,1,2]))\n",
    "cm=metrics.confusion_matrix(y_test,predict3,labels=[0,1,2])\n",
    "fig = plt.figure()\n",
    "ax = fig.add_subplot(111)\n",
    "cax = ax.matshow(cm)\n",
    "plt.title('Confussion Matrix for Random Forest')\n",
    "plt.xlabel('Prediction')\n",
    "plt.ylabel('True')\n",
    "plt.show()"
   ]
  },
  {
   "cell_type": "markdown",
   "metadata": {},
   "source": [
    "### Box Plot for Algorithm Comparison"
   ]
  },
  {
   "cell_type": "code",
   "execution_count": 345,
   "metadata": {},
   "outputs": [
    {
     "name": "stdout",
     "output_type": "stream",
     "text": [
      "DT: 56.363636 \n",
      "KNN: 51.969697 \n",
      "GB: 51.363636 \n",
      "NB: 59.772727 \n",
      "SVC: 62.348485 \n",
      "LSVC: 54.469697 \n",
      "RFC: 58.636364 \n"
     ]
    }
   ],
   "source": [
    "models = []\n",
    "models.append(('DT', LogisticRegression()))\n",
    "models.append(('KNN', KNeighborsClassifier()))\n",
    "models.append(('GB', GaussianNB()))\n",
    "models.append(('NB', BernoulliNB()))\n",
    "models.append(('SVC', SVC()))\n",
    "models.append(('LSVC', LinearSVC()))\n",
    "models.append(('RFC', RandomForestClassifier()))\n",
    "\n",
    "seed = 7\n",
    "results = []\n",
    "names = []\n",
    "X = X_train\n",
    "Y = y_train\n",
    "\n",
    "for name, model in models:\n",
    "    kfold = model_selection.KFold(\n",
    "        n_splits=10, random_state=seed)\n",
    "    cv_results = model_selection.cross_val_score(\n",
    "        model, X, Y, cv=kfold, scoring='accuracy')\n",
    "    results.append(cv_results)\n",
    "    names.append(name)\n",
    "    msg = \"%s: %f \" % (name, cv_results.mean()*100)\n",
    "    print(msg)"
   ]
  },
  {
   "cell_type": "code",
   "execution_count": 346,
   "metadata": {},
   "outputs": [
    {
     "data": {
      "image/png": "[encoded data removed]",
      "text/plain": [
       "<Figure size 432x288 with 1 Axes>"
      ]
     },
     "metadata": {},
     "output_type": "display_data"
    }
   ],
   "source": [
    "fig = plt.figure()\n",
    "fig.suptitle('Algorithm Comparison')\n",
    "ax = fig.add_subplot(111)\n",
    "plt.boxplot(results)\n",
    "ax.set_xticklabels(names)\n",
    "plt.show()"
   ]
  },
  {
   "cell_type": "markdown",
   "metadata": {},
   "source": [
    "## Classifier - Problem 2"
   ]
  },
  {
   "cell_type": "code",
   "execution_count": 263,
   "metadata": {},
   "outputs": [],
   "source": [
    "df = sklearn.utils.shuffle(df)\n",
    "x = df.drop(\"Physical\",axis = 1).values\n",
    "y = df[\"Physical\"].values"
   ]
  },
  {
   "cell_type": "code",
   "execution_count": 283,
   "metadata": {},
   "outputs": [
    {
     "name": "stdout",
     "output_type": "stream",
     "text": [
      "Accuracy: 0.384615384615\n"
     ]
    }
   ],
   "source": [
    "#Decision Tree\n",
    "test_size = int(0.2*len(x))\n",
    "train_x = x[:-test_size]\n",
    "train_y = y[:-test_size]\n",
    "test_x = x[-test_size:]\n",
    "test_y = y[-test_size:]\n",
    "\n",
    "clf = DecisionTreeClassifier()\n",
    "clf.fit(train_x, train_y)\n",
    "#clf.score(test_x, test_y)\n",
    "print('Accuracy:', clf.score(test_x, test_y))\n",
    "\n",
    "#print(clf.predict([train_x[7]]))"
   ]
  },
  {
   "cell_type": "code",
   "execution_count": 295,
   "metadata": {},
   "outputs": [
    {
     "name": "stdout",
     "output_type": "stream",
     "text": [
      "Accuracy: 0.461538461538\n"
     ]
    }
   ],
   "source": [
    "#Gaussian Naive bayes\n",
    "clf = GaussianNB()\n",
    "clf.fit(train_x, train_y)\n",
    "#clf.score(test_x, test_y)\n",
    "print('Accuracy:', clf.score(test_x, test_y))"
   ]
  },
  {
   "cell_type": "code",
   "execution_count": 297,
   "metadata": {},
   "outputs": [
    {
     "name": "stdout",
     "output_type": "stream",
     "text": [
      "Accuracy: 0.588040596803\n"
     ]
    },
    {
     "name": "stderr",
     "output_type": "stream",
     "text": [
      "C:\\Users\\nasim\\Anaconda3\\envs\\workshop\\lib\\site-packages\\sklearn\\utils\\validation.py:475: DataConversionWarning: Data with input dtype object was converted to float64 by the scale function.\n",
      "  warnings.warn(msg, DataConversionWarning)\n"
     ]
    }
   ],
   "source": [
    "#svm with rbf karnel\n",
    "df = sklearn.utils.shuffle(df)\n",
    "x = df.drop(\"Higher\",axis = 1).values\n",
    "y = df[\"Higher\"].values\n",
    "\n",
    "x = preprocessing.scale(x)\n",
    "test_size = int(0.2*len(x))\n",
    "train_x = x[:-test_size]\n",
    "train_y = y[:-test_size]\n",
    "test_x = x[-test_size:]\n",
    "test_y = y[-test_size:]\n",
    "\n",
    "clf = svm.SVR(kernel = \"rbf\")\n",
    "clf.fit(train_x, train_y)\n",
    "#abs(clf.score(test_x, test_y))\n",
    "print('Accuracy:', abs(clf.score(test_x, test_y)))"
   ]
  },
  {
   "cell_type": "markdown",
   "metadata": {},
   "source": [
    "### SVM"
   ]
  },
  {
   "cell_type": "code",
   "execution_count": 363,
   "metadata": {},
   "outputs": [
    {
     "data": {
      "text/plain": [
       "SVC(C=1.0, cache_size=200, class_weight=None, coef0=0.0,\n",
       "  decision_function_shape='ovr', degree=3, gamma='auto', kernel='linear',\n",
       "  max_iter=-1, probability=False, random_state=None, shrinking=True,\n",
       "  tol=0.001, verbose=False)"
      ]
     },
     "execution_count": 363,
     "metadata": {},
     "output_type": "execute_result"
    }
   ],
   "source": [
    "X=df.drop('LR',axis=1)\n",
    "y=df['LR']\n",
    "X_train,X_test,y_train,y_test=train_test_split(X,y,test_size=0.12)\n",
    "\n",
    "model=svm.SVC(kernel='linear')\n",
    "model.fit(X_train,y_train)  "
   ]
  },
  {
   "cell_type": "code",
   "execution_count": 364,
   "metadata": {},
   "outputs": [
    {
     "name": "stdout",
     "output_type": "stream",
     "text": [
      "13\n",
      "81.25\n"
     ]
    }
   ],
   "source": [
    "predict=model.predict(X_test)\n",
    "x=y_test.iloc[:].values\n",
    "length=len(predict)\n",
    "\n",
    "correct=0\n",
    "for i in range(length):\n",
    "    if(predict[i]==x[i]):\n",
    "        correct+=1\n",
    "print(correct)\n",
    "\n",
    "accuracy=correct*100/len(x)\n",
    "print(accuracy)"
   ]
  },
  {
   "cell_type": "code",
   "execution_count": 366,
   "metadata": {},
   "outputs": [
    {
     "name": "stdout",
     "output_type": "stream",
     "text": [
      "[[ 0  3  0]\n",
      " [ 0 13  0]\n",
      " [ 0  0  0]]\n"
     ]
    },
    {
     "data": {
      "image/png": "[encoded data removed]",
      "text/plain": [
       "<Figure size 432x288 with 1 Axes>"
      ]
     },
     "metadata": {},
     "output_type": "display_data"
    }
   ],
   "source": [
    "#print(\"{0}\".format(metrics.confusion_matrix(y_test,predict,labels=[0,1,2])))\n",
    "print(metrics.confusion_matrix(y_test,predict,labels=[0,1,2]))\n",
    "cm=metrics.confusion_matrix(y_test,predict,labels=[0,1,2])\n",
    "fig = plt.figure()\n",
    "ax = fig.add_subplot(111)\n",
    "cax = ax.matshow(cm)\n",
    "plt.title('Confussion Matrix for SVM')\n",
    "plt.xlabel('Prediction')\n",
    "plt.ylabel('True')\n",
    "plt.show() "
   ]
  },
  {
   "cell_type": "markdown",
   "metadata": {},
   "source": [
    "### Random Forest Classifier "
   ]
  },
  {
   "cell_type": "code",
   "execution_count": 367,
   "metadata": {},
   "outputs": [
    {
     "name": "stdout",
     "output_type": "stream",
     "text": [
      "8\n",
      "50.0\n"
     ]
    }
   ],
   "source": [
    "model=RandomForestClassifier()\n",
    "mode2=DecisionTreeRegressor()\n",
    "\n",
    "model.fit(X_train,y_train)\n",
    "mode2.fit(X_train,y_train)\n",
    "\n",
    "predict3=model3.predict(X_test)\n",
    "predict4=model4.predict(X_test)\n",
    "\n",
    "length3=len(predict3)\n",
    "correct3=0\n",
    "for i in range(length3):\n",
    "    if(x[i]==predict3[i]):\n",
    "        correct3=correct3+1\n",
    "print(correct3)\n",
    "accuracy3=correct3*100/len(x)\n",
    "print(accuracy3)"
   ]
  },
  {
   "cell_type": "code",
   "execution_count": 368,
   "metadata": {},
   "outputs": [
    {
     "name": "stdout",
     "output_type": "stream",
     "text": [
      "[[0 3 0]\n",
      " [5 8 0]\n",
      " [0 0 0]]\n"
     ]
    },
    {
     "data": {
      "image/png": "[encoded data removed]",
      "text/plain": [
       "<Figure size 432x288 with 1 Axes>"
      ]
     },
     "metadata": {},
     "output_type": "display_data"
    }
   ],
   "source": [
    "print(metrics.confusion_matrix(y_test,predict3,labels=[0,1,2]))\n",
    "cm=metrics.confusion_matrix(y_test,predict3,labels=[0,1,2])\n",
    "fig = plt.figure()\n",
    "ax = fig.add_subplot(111)\n",
    "cax = ax.matshow(cm)\n",
    "plt.title('Confussion Matrix for Random Forest')\n",
    "plt.xlabel('Prediction')\n",
    "plt.ylabel('True')\n",
    "plt.show()"
   ]
  },
  {
   "cell_type": "markdown",
   "metadata": {},
   "source": [
    "### Boxplot for algorithm comparison "
   ]
  },
  {
   "cell_type": "code",
   "execution_count": 369,
   "metadata": {},
   "outputs": [
    {
     "name": "stdout",
     "output_type": "stream",
     "text": [
      "DT: 73.712121 \n",
      "KNN: 70.227273 \n",
      "GB: 62.727273 \n",
      "NB: 75.227273 \n",
      "SVC: 77.727273 \n",
      "LSVC: 68.636364 \n",
      "RFC: 69.242424 \n"
     ]
    }
   ],
   "source": [
    "models = []\n",
    "models.append(('DT', LogisticRegression()))\n",
    "models.append(('KNN', KNeighborsClassifier()))\n",
    "models.append(('GB', GaussianNB()))\n",
    "models.append(('NB', BernoulliNB()))\n",
    "models.append(('SVC', SVC()))\n",
    "models.append(('LSVC', LinearSVC()))\n",
    "models.append(('RFC', RandomForestClassifier()))\n",
    "\n",
    "seed = 7\n",
    "results = []\n",
    "names = []\n",
    "X = X_train\n",
    "Y = y_train\n",
    "\n",
    "for name, model in models:\n",
    "    kfold = model_selection.KFold(\n",
    "        n_splits=10, random_state=seed)\n",
    "    cv_results = model_selection.cross_val_score(\n",
    "        model, X, Y, cv=kfold, scoring='accuracy')\n",
    "    results.append(cv_results)\n",
    "    names.append(name)\n",
    "    msg = \"%s: %f \" % (name, cv_results.mean()*100)\n",
    "    print(msg)"
   ]
  },
  {
   "cell_type": "code",
   "execution_count": 370,
   "metadata": {},
   "outputs": [
    {
     "data": {
      "image/png": "[encoded data removed]",
      "text/plain": [
       "<Figure size 432x288 with 1 Axes>"
      ]
     },
     "metadata": {},
     "output_type": "display_data"
    }
   ],
   "source": [
    "fig = plt.figure()\n",
    "fig.suptitle('Algorithm Comparison')\n",
    "ax = fig.add_subplot(111)\n",
    "plt.boxplot(results)\n",
    "ax.set_xticklabels(names)\n",
    "plt.show()"
   ]
  },
  {
   "cell_type": "markdown",
   "metadata": {},
   "source": [
    "### Error Rate Calculation"
   ]
  },
  {
   "cell_type": "code",
   "execution_count": 351,
   "metadata": {},
   "outputs": [],
   "source": [
    "#error rate = (1 - (test_y / train_y)) * 100"
   ]
  },
  {
   "cell_type": "code",
   "execution_count": null,
   "metadata": {},
   "outputs": [],
   "source": []
  },
  {
   "cell_type": "code",
   "execution_count": null,
   "metadata": {},
   "outputs": [],
   "source": []
  },
  {
   "cell_type": "code",
   "execution_count": null,
   "metadata": {},
   "outputs": [],
   "source": []
  },
  {
   "cell_type": "code",
   "execution_count": null,
   "metadata": {},
   "outputs": [],
   "source": [
    "\n"
   ]
  },
  {
   "cell_type": "code",
   "execution_count": null,
   "metadata": {},
   "outputs": [],
   "source": []
  },
  {
   "cell_type": "code",
   "execution_count": null,
   "metadata": {},
   "outputs": [],
   "source": []
  },
  {
   "cell_type": "code",
   "execution_count": null,
   "metadata": {},
   "outputs": [],
   "source": []
  },
  {
   "cell_type": "code",
   "execution_count": null,
   "metadata": {},
   "outputs": [],
   "source": []
  },
  {
   "cell_type": "code",
   "execution_count": null,
   "metadata": {},
   "outputs": [],
   "source": []
  },
  {
   "cell_type": "code",
   "execution_count": null,
   "metadata": {},
   "outputs": [],
   "source": []
  }
 ],
 "metadata": {
  "kernelspec": {
   "display_name": "Python 3",
   "language": "python",
   "name": "python3"
  },
  "language_info": {
   "codemirror_mode": {
    "name": "ipython",
    "version": 3
   },
   "file_extension": ".py",
   "mimetype": "text/x-python",
   "name": "python",
   "nbconvert_exporter": "python",
   "pygments_lexer": "ipython3",
   "version": "3.6.5"
  }
 },
 "nbformat": 4,
 "nbformat_minor": 2
}
