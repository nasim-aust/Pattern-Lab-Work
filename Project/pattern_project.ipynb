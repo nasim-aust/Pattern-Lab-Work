{
  "nbformat": 4,
  "nbformat_minor": 0,
  "metadata": {
    "colab": {
      "name": "pattern_project.ipynb",
      "version": "0.3.2",
      "provenance": [],
      "collapsed_sections": []
    },
    "kernelspec": {
      "name": "python3",
      "display_name": "Python 3"
    },
    "accelerator": "GPU"
  },
  "cells": [
    {
      "metadata": {
        "id": "PFKI6gvB_U2j",
        "colab_type": "code",
        "outputId": "80c88737-1bb0-4a0f-9182-aa26e23627e8",
        "colab": {
          "base_uri": "https://localhost:8080/",
          "height": 224
        }
      },
      "cell_type": "code",
      "source": [
        "\n",
        "!apt-get install -y -qq software-properties-common python-software-properties module-init-tools\n",
        "!add-apt-repository -y ppa:alessandro-strada/ppa 2>&1 > /dev/null\n",
        "!apt-get update -qq 2>&1 > /dev/null\n",
        "!apt-get -y install -qq google-drive-ocamlfuse fuse\n",
        "from google.colab import auth\n",
        "auth.authenticate_user()\n",
        "from oauth2client.client import GoogleCredentials\n",
        "creds = GoogleCredentials.get_application_default()\n",
        "import getpass\n",
        "!google-drive-ocamlfuse -headless -id={creds.client_id} -secret={creds.client_secret} < /dev/null 2>&1 | grep URL\n",
        "vcode = getpass.getpass()\n",
        "!echo {vcode} | google-drive-ocamlfuse -headless -id={creds.client_id} -secret={creds.client_secret}"
      ],
      "execution_count": 1,
      "outputs": [
        {
          "output_type": "stream",
          "text": [
            "E: Package 'python-software-properties' has no installation candidate\n",
            "Selecting previously unselected package google-drive-ocamlfuse.\n",
            "(Reading database ... 131294 files and directories currently installed.)\n",
            "Preparing to unpack .../google-drive-ocamlfuse_0.7.3-0ubuntu1~ubuntu18.04.1_amd64.deb ...\n",
            "Unpacking google-drive-ocamlfuse (0.7.3-0ubuntu1~ubuntu18.04.1) ...\n",
            "Setting up google-drive-ocamlfuse (0.7.3-0ubuntu1~ubuntu18.04.1) ...\n",
            "Processing triggers for man-db (2.8.3-2ubuntu0.1) ...\n",
            "Please, open the following URL in a web browser: https://accounts.google.com/o/oauth2/auth?client_id=32555940559.apps.googleusercontent.com&redirect_uri=urn%3Aietf%3Awg%3Aoauth%3A2.0%3Aoob&scope=https%3A%2F%2Fwww.googleapis.com%2Fauth%2Fdrive&response_type=code&access_type=offline&approval_prompt=force\n",
            "··········\n",
            "Please, open the following URL in a web browser: https://accounts.google.com/o/oauth2/auth?client_id=32555940559.apps.googleusercontent.com&redirect_uri=urn%3Aietf%3Awg%3Aoauth%3A2.0%3Aoob&scope=https%3A%2F%2Fwww.googleapis.com%2Fauth%2Fdrive&response_type=code&access_type=offline&approval_prompt=force\n",
            "Please enter the verification code: Access token retrieved correctly.\n"
          ],
          "name": "stdout"
        }
      ]
    },
    {
      "metadata": {
        "id": "3sNKKA3I_csO",
        "colab_type": "code",
        "colab": {}
      },
      "cell_type": "code",
      "source": [
        "!mkdir -p drive\n",
        "!google-drive-ocamlfuse drive\n",
        "#!pip install -q keras"
      ],
      "execution_count": 0,
      "outputs": []
    },
    {
      "metadata": {
        "id": "3YjVfvRePTJp",
        "colab_type": "code",
        "outputId": "d3f6837e-ca1d-406b-e79a-719ccb2eda5a",
        "colab": {
          "base_uri": "https://localhost:8080/",
          "height": 35
        }
      },
      "cell_type": "code",
      "source": [
        "#mkdir test\n",
        "#!sudo mount -o loop /dev/loop0 drive"
      ],
      "execution_count": 0,
      "outputs": [
        {
          "output_type": "stream",
          "text": [
            "mount: drive: can't find in /etc/fstab.\n"
          ],
          "name": "stdout"
        }
      ]
    },
    {
      "metadata": {
        "id": "FUuWcBil9HCW",
        "colab_type": "code",
        "outputId": "cc97b836-fa59-42ef-cea2-9e5ded380fc8",
        "colab": {
          "base_uri": "https://localhost:8080/",
          "height": 51
        }
      },
      "cell_type": "code",
      "source": [
        "# Code to read csv file into Colaboratory:\n",
        "!pip install -U -q PyDrive\n",
        "from pydrive.auth import GoogleAuth\n",
        "from pydrive.drive import GoogleDrive\n",
        "from google.colab import auth\n",
        "from oauth2client.client import GoogleCredentials\n",
        "# Authenticate and create the PyDrive client.\n",
        "auth.authenticate_user()\n",
        "gauth = GoogleAuth()\n",
        "gauth.credentials = GoogleCredentials.get_application_default()\n",
        "drive = GoogleDrive(gauth)"
      ],
      "execution_count": 3,
      "outputs": [
        {
          "output_type": "stream",
          "text": [
            "\u001b[?25l\r\u001b[K    1% |▎                               | 10kB 17.3MB/s eta 0:00:01\r\u001b[K    2% |▋                               | 20kB 1.6MB/s eta 0:00:01\r\u001b[K    3% |█                               | 30kB 2.3MB/s eta 0:00:01\r\u001b[K    4% |█▎                              | 40kB 1.6MB/s eta 0:00:01\r\u001b[K    5% |█▋                              | 51kB 2.0MB/s eta 0:00:01\r\u001b[K    6% |██                              | 61kB 2.4MB/s eta 0:00:01\r\u001b[K    7% |██▎                             | 71kB 2.7MB/s eta 0:00:01\r\u001b[K    8% |██▋                             | 81kB 3.1MB/s eta 0:00:01\r\u001b[K    9% |███                             | 92kB 3.4MB/s eta 0:00:01\r\u001b[K    10% |███▎                            | 102kB 2.7MB/s eta 0:00:01\r\u001b[K    11% |███▋                            | 112kB 2.7MB/s eta 0:00:01\r\u001b[K    12% |████                            | 122kB 4.0MB/s eta 0:00:01\r\u001b[K    13% |████▎                           | 133kB 4.0MB/s eta 0:00:01\r\u001b[K    14% |████▋                           | 143kB 7.4MB/s eta 0:00:01\r\u001b[K    15% |█████                           | 153kB 7.4MB/s eta 0:00:01\r\u001b[K    16% |█████▎                          | 163kB 7.3MB/s eta 0:00:01\r\u001b[K    17% |█████▋                          | 174kB 7.4MB/s eta 0:00:01\r\u001b[K    18% |██████                          | 184kB 7.4MB/s eta 0:00:01\r\u001b[K    19% |██████▎                         | 194kB 7.4MB/s eta 0:00:01\r\u001b[K    20% |██████▋                         | 204kB 35.6MB/s eta 0:00:01\r\u001b[K    21% |███████                         | 215kB 8.5MB/s eta 0:00:01\r\u001b[K    22% |███████▎                        | 225kB 8.5MB/s eta 0:00:01\r\u001b[K    23% |███████▋                        | 235kB 8.5MB/s eta 0:00:01\r\u001b[K    24% |████████                        | 245kB 8.5MB/s eta 0:00:01\r\u001b[K    25% |████████▎                       | 256kB 8.6MB/s eta 0:00:01\r\u001b[K    26% |████████▋                       | 266kB 8.4MB/s eta 0:00:01\r\u001b[K    27% |█████████                       | 276kB 8.5MB/s eta 0:00:01\r\u001b[K    29% |█████████▎                      | 286kB 8.6MB/s eta 0:00:01\r\u001b[K    30% |█████████▋                      | 296kB 8.6MB/s eta 0:00:01\r\u001b[K    31% |██████████                      | 307kB 8.7MB/s eta 0:00:01\r\u001b[K    32% |██████████▎                     | 317kB 43.0MB/s eta 0:00:01\r\u001b[K    33% |██████████▋                     | 327kB 43.3MB/s eta 0:00:01\r\u001b[K    34% |███████████                     | 337kB 44.5MB/s eta 0:00:01\r\u001b[K    35% |███████████▎                    | 348kB 41.6MB/s eta 0:00:01\r\u001b[K    36% |███████████▋                    | 358kB 40.9MB/s eta 0:00:01\r\u001b[K    37% |████████████                    | 368kB 46.4MB/s eta 0:00:01\r\u001b[K    38% |████████████▎                   | 378kB 46.9MB/s eta 0:00:01\r\u001b[K    39% |████████████▋                   | 389kB 47.2MB/s eta 0:00:01\r\u001b[K    40% |█████████████                   | 399kB 47.3MB/s eta 0:00:01\r\u001b[K    41% |█████████████▎                  | 409kB 46.7MB/s eta 0:00:01\r\u001b[K    42% |█████████████▋                  | 419kB 47.1MB/s eta 0:00:01\r\u001b[K    43% |██████████████                  | 430kB 47.2MB/s eta 0:00:01\r\u001b[K    44% |██████████████▎                 | 440kB 10.5MB/s eta 0:00:01\r\u001b[K    45% |██████████████▋                 | 450kB 10.5MB/s eta 0:00:01\r\u001b[K    46% |███████████████                 | 460kB 10.5MB/s eta 0:00:01\r\u001b[K    47% |███████████████▎                | 471kB 10.5MB/s eta 0:00:01\r\u001b[K    48% |███████████████▋                | 481kB 10.5MB/s eta 0:00:01\r\u001b[K    49% |████████████████                | 491kB 10.4MB/s eta 0:00:01\r\u001b[K    50% |████████████████▎               | 501kB 10.5MB/s eta 0:00:01\r\u001b[K    51% |████████████████▋               | 512kB 10.3MB/s eta 0:00:01\r\u001b[K    52% |█████████████████               | 522kB 10.3MB/s eta 0:00:01\r\u001b[K    53% |█████████████████▎              | 532kB 10.3MB/s eta 0:00:01\r\u001b[K    54% |█████████████████▋              | 542kB 42.2MB/s eta 0:00:01\r\u001b[K    55% |██████████████████              | 552kB 45.4MB/s eta 0:00:01\r\u001b[K    57% |██████████████████▎             | 563kB 46.5MB/s eta 0:00:01\r\u001b[K    58% |██████████████████▋             | 573kB 46.5MB/s eta 0:00:01\r\u001b[K    59% |███████████████████             | 583kB 46.5MB/s eta 0:00:01\r\u001b[K    60% |███████████████████▎            | 593kB 47.4MB/s eta 0:00:01\r\u001b[K    61% |███████████████████▋            | 604kB 45.7MB/s eta 0:00:01\r\u001b[K    62% |████████████████████            | 614kB 47.9MB/s eta 0:00:01\r\u001b[K    63% |████████████████████▎           | 624kB 9.8MB/s eta 0:00:01\r\u001b[K    64% |████████████████████▋           | 634kB 9.7MB/s eta 0:00:01\r\u001b[K    65% |█████████████████████           | 645kB 9.8MB/s eta 0:00:01\r\u001b[K    66% |█████████████████████▎          | 655kB 9.8MB/s eta 0:00:01\r\u001b[K    67% |█████████████████████▋          | 665kB 9.4MB/s eta 0:00:01\r\u001b[K    68% |██████████████████████          | 675kB 9.3MB/s eta 0:00:01\r\u001b[K    69% |██████████████████████▎         | 686kB 9.3MB/s eta 0:00:01\r\u001b[K    70% |██████████████████████▋         | 696kB 9.4MB/s eta 0:00:01\r\u001b[K    71% |███████████████████████         | 706kB 9.4MB/s eta 0:00:01\r\u001b[K    72% |███████████████████████▎        | 716kB 9.5MB/s eta 0:00:01\r\u001b[K    73% |███████████████████████▋        | 727kB 41.4MB/s eta 0:00:01\r\u001b[K    74% |████████████████████████        | 737kB 42.5MB/s eta 0:00:01\r\u001b[K    75% |████████████████████████▎       | 747kB 43.3MB/s eta 0:00:01\r\u001b[K    76% |████████████████████████▋       | 757kB 43.8MB/s eta 0:00:01\r\u001b[K    77% |████████████████████████▉       | 768kB 53.5MB/s eta 0:00:01\r\u001b[K    78% |█████████████████████████▏      | 778kB 54.5MB/s eta 0:00:01\r\u001b[K    79% |█████████████████████████▌      | 788kB 53.4MB/s eta 0:00:01\r\u001b[K    80% |█████████████████████████▉      | 798kB 52.9MB/s eta 0:00:01\r\u001b[K    81% |██████████████████████████▏     | 808kB 52.9MB/s eta 0:00:01\r\u001b[K    82% |██████████████████████████▌     | 819kB 52.8MB/s eta 0:00:01\r\u001b[K    83% |██████████████████████████▉     | 829kB 54.2MB/s eta 0:00:01\r\u001b[K    85% |███████████████████████████▏    | 839kB 54.3MB/s eta 0:00:01\r\u001b[K    86% |███████████████████████████▌    | 849kB 51.6MB/s eta 0:00:01\r\u001b[K    87% |███████████████████████████▉    | 860kB 47.8MB/s eta 0:00:01\r\u001b[K    88% |████████████████████████████▏   | 870kB 48.1MB/s eta 0:00:01\r\u001b[K    89% |████████████████████████████▌   | 880kB 48.9MB/s eta 0:00:01\r\u001b[K    90% |████████████████████████████▉   | 890kB 49.9MB/s eta 0:00:01\r\u001b[K    91% |█████████████████████████████▏  | 901kB 49.8MB/s eta 0:00:01\r\u001b[K    92% |█████████████████████████████▌  | 911kB 49.7MB/s eta 0:00:01\r\u001b[K    93% |█████████████████████████████▉  | 921kB 49.2MB/s eta 0:00:01\r\u001b[K    94% |██████████████████████████████▏ | 931kB 47.8MB/s eta 0:00:01\r\u001b[K    95% |██████████████████████████████▌ | 942kB 47.8MB/s eta 0:00:01\r\u001b[K    96% |██████████████████████████████▉ | 952kB 50.4MB/s eta 0:00:01\r\u001b[K    97% |███████████████████████████████▏| 962kB 55.5MB/s eta 0:00:01\r\u001b[K    98% |███████████████████████████████▌| 972kB 53.7MB/s eta 0:00:01\r\u001b[K    99% |███████████████████████████████▉| 983kB 50.5MB/s eta 0:00:01\r\u001b[K    100% |████████████████████████████████| 993kB 17.9MB/s \n",
            "\u001b[?25h  Building wheel for PyDrive (setup.py) ... \u001b[?25ldone\n",
            "\u001b[?25h"
          ],
          "name": "stdout"
        }
      ]
    },
    {
      "metadata": {
        "id": "AV6789v1_6HC",
        "colab_type": "code",
        "outputId": "bde6ed5f-a3b8-4b2a-e7a8-ddae82059ace",
        "colab": {
          "base_uri": "https://localhost:8080/",
          "height": 119
        }
      },
      "cell_type": "code",
      "source": [
        "import pandas as pd\n",
        "df = pd.read_csv(\"drive/Colab Notebooks/AUST/Pattern Project/project_data.csv\")\n",
        "df.head()\n",
        "!ls drive"
      ],
      "execution_count": 4,
      "outputs": [
        {
          "output_type": "stream",
          "text": [
            "'0 OWN'\t\t\t\t  'Personal Document Manager'\n",
            " AUST\t\t\t\t  'resume_md_abdullah_al_nasim (0ab4c6ad).pdf'\n",
            "'AUST website- competition info'  'resume_md_abdullah_al_nasim (2af42ead).pdf'\n",
            " Classroom\t\t\t   resume_md_abdullah_al_nasim.pdf\n",
            "'Colab Notebooks'\t\t  'Template 2'\n",
            "'Colab Notebooks 2'\n"
          ],
          "name": "stdout"
        }
      ]
    },
    {
      "metadata": {
        "id": "K7xe6xYLACsr",
        "colab_type": "code",
        "outputId": "68f7716a-59af-479a-a058-fff61f867f19",
        "colab": {
          "base_uri": "https://localhost:8080/",
          "height": 136
        }
      },
      "cell_type": "code",
      "source": [
        "df['Name'].unique()"
      ],
      "execution_count": 5,
      "outputs": [
        {
          "output_type": "execute_result",
          "data": {
            "text/plain": [
              "array(['Anis-Ul-Islam Rafid', 'Saidul Arafin', 'MD Abdullah Al Nasim',\n",
              "       'Zahid Al Mamun', 'Shurid Sohom', 'Syeda Khadiza Akhter',\n",
              "       'Md. Masud Rana', 'Sarwar Saif', 'Samiur Rahman', 'Sakib Ahmed',\n",
              "       'shammy shikder shanta', 'Tanjina Akter Nipu',\n",
              "       'Fairuz Shezuti Rahman', 'Humayara Asima', 'Shamit Ahmed',\n",
              "       'Murad Hossain', 'Sakif Azline', 'Amit Raha Niloy',\n",
              "       'Sofia Neherin', 'Fabliha Fairooz', nan], dtype=object)"
            ]
          },
          "metadata": {
            "tags": []
          },
          "execution_count": 5
        }
      ]
    },
    {
      "metadata": {
        "id": "51DZeVdzA1aM",
        "colab_type": "code",
        "outputId": "07d952bb-6513-485b-e011-8dffbe41351f",
        "colab": {
          "base_uri": "https://localhost:8080/",
          "height": 255
        }
      },
      "cell_type": "code",
      "source": [
        "df.drop(['Name'], axis = 1, inplace = True)\n",
        "df.head()"
      ],
      "execution_count": 6,
      "outputs": [
        {
          "output_type": "execute_result",
          "data": {
            "text/html": [
              "<div>\n",
              "<style scoped>\n",
              "    .dataframe tbody tr th:only-of-type {\n",
              "        vertical-align: middle;\n",
              "    }\n",
              "\n",
              "    .dataframe tbody tr th {\n",
              "        vertical-align: top;\n",
              "    }\n",
              "\n",
              "    .dataframe thead th {\n",
              "        text-align: right;\n",
              "    }\n",
              "</style>\n",
              "<table border=\"1\" class=\"dataframe\">\n",
              "  <thead>\n",
              "    <tr style=\"text-align: right;\">\n",
              "      <th></th>\n",
              "      <th>Current Place</th>\n",
              "      <th>Current Place Latitude</th>\n",
              "      <th>Current Place Longitude</th>\n",
              "      <th>Place of interest</th>\n",
              "      <th>Place of interest Latitude</th>\n",
              "      <th>Place of interest Longitude</th>\n",
              "      <th>Food you like most</th>\n",
              "      <th>Leisure time activity</th>\n",
              "      <th>Future plan</th>\n",
              "      <th>Typically your days are started at</th>\n",
              "    </tr>\n",
              "  </thead>\n",
              "  <tbody>\n",
              "    <tr>\n",
              "      <th>0</th>\n",
              "      <td>Goran</td>\n",
              "      <td>23.75027</td>\n",
              "      <td>90.434130</td>\n",
              "      <td>Cox's Bazar</td>\n",
              "      <td>21.411270</td>\n",
              "      <td>91.995891</td>\n",
              "      <td>Biriyani</td>\n",
              "      <td>Movies</td>\n",
              "      <td>Software Engineer</td>\n",
              "      <td>LR</td>\n",
              "    </tr>\n",
              "    <tr>\n",
              "      <th>1</th>\n",
              "      <td>Banasree</td>\n",
              "      <td>22.513531</td>\n",
              "      <td>88.301537</td>\n",
              "      <td>Sea Beach</td>\n",
              "      <td>NaN</td>\n",
              "      <td>NaN</td>\n",
              "      <td>Kachchi</td>\n",
              "      <td>Sports</td>\n",
              "      <td>BCS/Business</td>\n",
              "      <td>LR</td>\n",
              "    </tr>\n",
              "    <tr>\n",
              "      <th>2</th>\n",
              "      <td>Azimpur</td>\n",
              "      <td>23.7270399</td>\n",
              "      <td>90.384690</td>\n",
              "      <td>Kaptai Lake</td>\n",
              "      <td>22.755208</td>\n",
              "      <td>92.277031</td>\n",
              "      <td>kacchi biryani</td>\n",
              "      <td>Series</td>\n",
              "      <td>Higher Study</td>\n",
              "      <td>ER</td>\n",
              "    </tr>\n",
              "    <tr>\n",
              "      <th>3</th>\n",
              "      <td>Niketon</td>\n",
              "      <td>23.70731</td>\n",
              "      <td>90.415480</td>\n",
              "      <td>home</td>\n",
              "      <td>23.707310</td>\n",
              "      <td>90.415480</td>\n",
              "      <td>any</td>\n",
              "      <td>movies,music</td>\n",
              "      <td>software Engineer</td>\n",
              "      <td>LR</td>\n",
              "    </tr>\n",
              "    <tr>\n",
              "      <th>4</th>\n",
              "      <td>Shaymoli</td>\n",
              "      <td>22.301411</td>\n",
              "      <td>70.822357</td>\n",
              "      <td>home</td>\n",
              "      <td>22.301411</td>\n",
              "      <td>70.822357</td>\n",
              "      <td>sea  food</td>\n",
              "      <td>music</td>\n",
              "      <td>businessman</td>\n",
              "      <td>LR</td>\n",
              "    </tr>\n",
              "  </tbody>\n",
              "</table>\n",
              "</div>"
            ],
            "text/plain": [
              "  Current Place Current Place Latitude  Current Place Longitude  \\\n",
              "0         Goran               23.75027                90.434130   \n",
              "1      Banasree              22.513531                88.301537   \n",
              "2       Azimpur             23.7270399                90.384690   \n",
              "3       Niketon               23.70731                90.415480   \n",
              "4      Shaymoli              22.301411                70.822357   \n",
              "\n",
              "  Place of interest  Place of interest Latitude  Place of interest Longitude  \\\n",
              "0       Cox's Bazar                   21.411270                    91.995891   \n",
              "1         Sea Beach                         NaN                          NaN   \n",
              "2       Kaptai Lake                   22.755208                    92.277031   \n",
              "3              home                   23.707310                    90.415480   \n",
              "4              home                   22.301411                    70.822357   \n",
              "\n",
              "  Food you like most Leisure time activity        Future plan  \\\n",
              "0           Biriyani                Movies  Software Engineer   \n",
              "1            Kachchi                Sports       BCS/Business   \n",
              "2     kacchi biryani                Series       Higher Study   \n",
              "3               any           movies,music  software Engineer   \n",
              "4          sea  food                 music        businessman   \n",
              "\n",
              "  Typically your days are started at  \n",
              "0                                 LR  \n",
              "1                                 LR  \n",
              "2                                 ER  \n",
              "3                                 LR  \n",
              "4                                 LR  "
            ]
          },
          "metadata": {
            "tags": []
          },
          "execution_count": 6
        }
      ]
    },
    {
      "metadata": {
        "id": "FzfxH10cBdXy",
        "colab_type": "code",
        "outputId": "54643c5b-a5e3-4dba-bf83-2cb9bd2eac8b",
        "colab": {
          "base_uri": "https://localhost:8080/",
          "height": 255
        }
      },
      "cell_type": "code",
      "source": [
        "df.dropna(axis = 0, inplace = True)\n",
        "from sklearn.preprocessing import LabelEncoder\n",
        "lb_make = LabelEncoder()\n",
        "df[\"Current Place\"] = lb_make.fit_transform(df[\"Current Place\"])\n",
        "df.head()"
      ],
      "execution_count": 7,
      "outputs": [
        {
          "output_type": "execute_result",
          "data": {
            "text/html": [
              "<div>\n",
              "<style scoped>\n",
              "    .dataframe tbody tr th:only-of-type {\n",
              "        vertical-align: middle;\n",
              "    }\n",
              "\n",
              "    .dataframe tbody tr th {\n",
              "        vertical-align: top;\n",
              "    }\n",
              "\n",
              "    .dataframe thead th {\n",
              "        text-align: right;\n",
              "    }\n",
              "</style>\n",
              "<table border=\"1\" class=\"dataframe\">\n",
              "  <thead>\n",
              "    <tr style=\"text-align: right;\">\n",
              "      <th></th>\n",
              "      <th>Current Place</th>\n",
              "      <th>Current Place Latitude</th>\n",
              "      <th>Current Place Longitude</th>\n",
              "      <th>Place of interest</th>\n",
              "      <th>Place of interest Latitude</th>\n",
              "      <th>Place of interest Longitude</th>\n",
              "      <th>Food you like most</th>\n",
              "      <th>Leisure time activity</th>\n",
              "      <th>Future plan</th>\n",
              "      <th>Typically your days are started at</th>\n",
              "    </tr>\n",
              "  </thead>\n",
              "  <tbody>\n",
              "    <tr>\n",
              "      <th>0</th>\n",
              "      <td>3</td>\n",
              "      <td>23.75027</td>\n",
              "      <td>90.434130</td>\n",
              "      <td>Cox's Bazar</td>\n",
              "      <td>21.411270</td>\n",
              "      <td>91.995891</td>\n",
              "      <td>Biriyani</td>\n",
              "      <td>Movies</td>\n",
              "      <td>Software Engineer</td>\n",
              "      <td>LR</td>\n",
              "    </tr>\n",
              "    <tr>\n",
              "      <th>2</th>\n",
              "      <td>0</td>\n",
              "      <td>23.7270399</td>\n",
              "      <td>90.384690</td>\n",
              "      <td>Kaptai Lake</td>\n",
              "      <td>22.755208</td>\n",
              "      <td>92.277031</td>\n",
              "      <td>kacchi biryani</td>\n",
              "      <td>Series</td>\n",
              "      <td>Higher Study</td>\n",
              "      <td>ER</td>\n",
              "    </tr>\n",
              "    <tr>\n",
              "      <th>3</th>\n",
              "      <td>8</td>\n",
              "      <td>23.70731</td>\n",
              "      <td>90.415480</td>\n",
              "      <td>home</td>\n",
              "      <td>23.707310</td>\n",
              "      <td>90.415480</td>\n",
              "      <td>any</td>\n",
              "      <td>movies,music</td>\n",
              "      <td>software Engineer</td>\n",
              "      <td>LR</td>\n",
              "    </tr>\n",
              "    <tr>\n",
              "      <th>4</th>\n",
              "      <td>12</td>\n",
              "      <td>22.301411</td>\n",
              "      <td>70.822357</td>\n",
              "      <td>home</td>\n",
              "      <td>22.301411</td>\n",
              "      <td>70.822357</td>\n",
              "      <td>sea  food</td>\n",
              "      <td>music</td>\n",
              "      <td>businessman</td>\n",
              "      <td>LR</td>\n",
              "    </tr>\n",
              "    <tr>\n",
              "      <th>5</th>\n",
              "      <td>1</td>\n",
              "      <td>-32.34861</td>\n",
              "      <td>151.924576</td>\n",
              "      <td>Cox's Bazar</td>\n",
              "      <td>21.411270</td>\n",
              "      <td>91.995891</td>\n",
              "      <td>Burger</td>\n",
              "      <td>Series</td>\n",
              "      <td>Entrepreneur</td>\n",
              "      <td>LR</td>\n",
              "    </tr>\n",
              "  </tbody>\n",
              "</table>\n",
              "</div>"
            ],
            "text/plain": [
              "   Current Place Current Place Latitude  Current Place Longitude  \\\n",
              "0              3               23.75027                90.434130   \n",
              "2              0             23.7270399                90.384690   \n",
              "3              8               23.70731                90.415480   \n",
              "4             12              22.301411                70.822357   \n",
              "5              1              -32.34861               151.924576   \n",
              "\n",
              "  Place of interest  Place of interest Latitude  Place of interest Longitude  \\\n",
              "0       Cox's Bazar                   21.411270                    91.995891   \n",
              "2       Kaptai Lake                   22.755208                    92.277031   \n",
              "3              home                   23.707310                    90.415480   \n",
              "4              home                   22.301411                    70.822357   \n",
              "5       Cox's Bazar                   21.411270                    91.995891   \n",
              "\n",
              "  Food you like most Leisure time activity        Future plan  \\\n",
              "0           Biriyani                Movies  Software Engineer   \n",
              "2     kacchi biryani                Series       Higher Study   \n",
              "3               any           movies,music  software Engineer   \n",
              "4          sea  food                 music        businessman   \n",
              "5             Burger                Series       Entrepreneur   \n",
              "\n",
              "  Typically your days are started at  \n",
              "0                                 LR  \n",
              "2                                 ER  \n",
              "3                                 LR  \n",
              "4                                 LR  \n",
              "5                                 LR  "
            ]
          },
          "metadata": {
            "tags": []
          },
          "execution_count": 7
        }
      ]
    },
    {
      "metadata": {
        "id": "Lx-wk5ISCSqp",
        "colab_type": "code",
        "outputId": "0de66f56-215e-47cd-9763-766570a3de78",
        "colab": {
          "base_uri": "https://localhost:8080/",
          "height": 221
        }
      },
      "cell_type": "code",
      "source": [
        "df[\"Place of interest\"] = lb_make.fit_transform(df[\"Place of interest\"])\n",
        "df[\"Food you like most\"] = lb_make.fit_transform(df[\"Food you like most\"])\n",
        "df[\"Leisure time activity\"] = lb_make.fit_transform(df[\"Leisure time activity\"])\n",
        "df[\"Future plan\"] = lb_make.fit_transform(df[\"Future plan\"])\n",
        "df[\"Typically your days are started at\"] = lb_make.fit_transform(df[\"Typically your days are started at\"])\n",
        "df.head()"
      ],
      "execution_count": 12,
      "outputs": [
        {
          "output_type": "execute_result",
          "data": {
            "text/html": [
              "<div>\n",
              "<style scoped>\n",
              "    .dataframe tbody tr th:only-of-type {\n",
              "        vertical-align: middle;\n",
              "    }\n",
              "\n",
              "    .dataframe tbody tr th {\n",
              "        vertical-align: top;\n",
              "    }\n",
              "\n",
              "    .dataframe thead th {\n",
              "        text-align: right;\n",
              "    }\n",
              "</style>\n",
              "<table border=\"1\" class=\"dataframe\">\n",
              "  <thead>\n",
              "    <tr style=\"text-align: right;\">\n",
              "      <th></th>\n",
              "      <th>Current Place</th>\n",
              "      <th>Current Place Latitude</th>\n",
              "      <th>Current Place Longitude</th>\n",
              "      <th>Place of interest</th>\n",
              "      <th>Place of interest Latitude</th>\n",
              "      <th>Place of interest Longitude</th>\n",
              "      <th>Food you like most</th>\n",
              "      <th>Leisure time activity</th>\n",
              "      <th>Future plan</th>\n",
              "      <th>Typically your days are started at</th>\n",
              "    </tr>\n",
              "  </thead>\n",
              "  <tbody>\n",
              "    <tr>\n",
              "      <th>16</th>\n",
              "      <td>10</td>\n",
              "      <td>27.883743</td>\n",
              "      <td>79.912247</td>\n",
              "      <td>1</td>\n",
              "      <td>21.411270</td>\n",
              "      <td>91.995891</td>\n",
              "      <td>1</td>\n",
              "      <td>1</td>\n",
              "      <td>7</td>\n",
              "      <td>1</td>\n",
              "    </tr>\n",
              "    <tr>\n",
              "      <th>3</th>\n",
              "      <td>8</td>\n",
              "      <td>23.70731</td>\n",
              "      <td>90.415480</td>\n",
              "      <td>7</td>\n",
              "      <td>23.707310</td>\n",
              "      <td>90.415480</td>\n",
              "      <td>5</td>\n",
              "      <td>7</td>\n",
              "      <td>10</td>\n",
              "      <td>1</td>\n",
              "    </tr>\n",
              "    <tr>\n",
              "      <th>14</th>\n",
              "      <td>11</td>\n",
              "      <td>23.70731</td>\n",
              "      <td>90.415480</td>\n",
              "      <td>6</td>\n",
              "      <td>23.733103</td>\n",
              "      <td>90.368848</td>\n",
              "      <td>1</td>\n",
              "      <td>1</td>\n",
              "      <td>2</td>\n",
              "      <td>1</td>\n",
              "    </tr>\n",
              "    <tr>\n",
              "      <th>15</th>\n",
              "      <td>4</td>\n",
              "      <td>23.745173</td>\n",
              "      <td>90.386421</td>\n",
              "      <td>3</td>\n",
              "      <td>23.745173</td>\n",
              "      <td>90.386421</td>\n",
              "      <td>1</td>\n",
              "      <td>1</td>\n",
              "      <td>0</td>\n",
              "      <td>1</td>\n",
              "    </tr>\n",
              "    <tr>\n",
              "      <th>8</th>\n",
              "      <td>7</td>\n",
              "      <td>23.70731</td>\n",
              "      <td>90.415480</td>\n",
              "      <td>3</td>\n",
              "      <td>23.707310</td>\n",
              "      <td>90.415480</td>\n",
              "      <td>0</td>\n",
              "      <td>0</td>\n",
              "      <td>3</td>\n",
              "      <td>1</td>\n",
              "    </tr>\n",
              "  </tbody>\n",
              "</table>\n",
              "</div>"
            ],
            "text/plain": [
              "    Current Place Current Place Latitude  Current Place Longitude  \\\n",
              "16             10              27.883743                79.912247   \n",
              "3               8               23.70731                90.415480   \n",
              "14             11               23.70731                90.415480   \n",
              "15              4              23.745173                90.386421   \n",
              "8               7               23.70731                90.415480   \n",
              "\n",
              "    Place of interest  Place of interest Latitude  \\\n",
              "16                  1                   21.411270   \n",
              "3                   7                   23.707310   \n",
              "14                  6                   23.733103   \n",
              "15                  3                   23.745173   \n",
              "8                   3                   23.707310   \n",
              "\n",
              "    Place of interest Longitude  Food you like most  Leisure time activity  \\\n",
              "16                    91.995891                   1                      1   \n",
              "3                     90.415480                   5                      7   \n",
              "14                    90.368848                   1                      1   \n",
              "15                    90.386421                   1                      1   \n",
              "8                     90.415480                   0                      0   \n",
              "\n",
              "    Future plan  Typically your days are started at  \n",
              "16            7                                   1  \n",
              "3            10                                   1  \n",
              "14            2                                   1  \n",
              "15            0                                   1  \n",
              "8             3                                   1  "
            ]
          },
          "metadata": {
            "tags": []
          },
          "execution_count": 12
        }
      ]
    },
    {
      "metadata": {
        "id": "4d0MFx12EjXS",
        "colab_type": "code",
        "colab": {}
      },
      "cell_type": "code",
      "source": [
        "import sklearn\n",
        "from sklearn import svm\n",
        "df = sklearn.utils.shuffle(df)\n",
        "x = df.drop(\"Typically your days are started at\",axis = 1).values\n",
        "y = df[\"Typically your days are started at\"].values"
      ],
      "execution_count": 0,
      "outputs": []
    },
    {
      "metadata": {
        "id": "HP43N-3OFMSU",
        "colab_type": "code",
        "outputId": "366bcb91-3324-407e-e746-976f811b6ee7",
        "colab": {
          "base_uri": "https://localhost:8080/",
          "height": 34
        }
      },
      "cell_type": "code",
      "source": [
        "#decision Tree\n",
        "\n",
        "test_size = int(0.2*len(x))\n",
        "train_x = x[:-test_size]\n",
        "train_y = y[:-test_size]\n",
        "test_x = x[-test_size:]\n",
        "test_y = y[-test_size:]\n",
        "\n",
        "from sklearn.tree import DecisionTreeClassifier\n",
        "clf = DecisionTreeClassifier()\n",
        "clf.fit(train_x, train_y)\n",
        "clf.score(test_x, test_y)\n"
      ],
      "execution_count": 14,
      "outputs": [
        {
          "output_type": "execute_result",
          "data": {
            "text/plain": [
              "1.0"
            ]
          },
          "metadata": {
            "tags": []
          },
          "execution_count": 14
        }
      ]
    },
    {
      "metadata": {
        "id": "S_tG_XhvJO41",
        "colab_type": "code",
        "outputId": "9fe51ef0-894e-49b4-e84f-d4ddf4e33610",
        "colab": {
          "base_uri": "https://localhost:8080/",
          "height": 34
        }
      },
      "cell_type": "code",
      "source": [
        "#Gaussian Naive bayes\n",
        "from sklearn.naive_bayes import GaussianNB\n",
        "clf = GaussianNB()\n",
        "clf.fit(train_x, train_y)\n",
        "clf.score(test_x, test_y)"
      ],
      "execution_count": 11,
      "outputs": [
        {
          "output_type": "execute_result",
          "data": {
            "text/plain": [
              "0.6666666666666666"
            ]
          },
          "metadata": {
            "tags": []
          },
          "execution_count": 11
        }
      ]
    },
    {
      "metadata": {
        "id": "n-RiKlnEFOBf",
        "colab_type": "code",
        "outputId": "9f206214-e661-4315-ec7d-72e105c7acc0",
        "colab": {
          "base_uri": "https://localhost:8080/",
          "height": 122
        }
      },
      "cell_type": "code",
      "source": [
        "#svm with rbf karnel\n",
        "import sklearn\n",
        "from sklearn import svm, preprocessing\n",
        "df = sklearn.utils.shuffle(df)\n",
        "x = df.drop(\"Typically your days are started at\",axis = 1).values\n",
        "y = df[\"Typically your days are started at\"].values\n",
        "\n",
        "x = preprocessing.scale(x)\n",
        "test_size = int(0.2*len(x))\n",
        "train_x = x[:-test_size]\n",
        "train_y = y[:-test_size]\n",
        "test_x = x[-test_size:]\n",
        "test_y = y[-test_size:]\n",
        "\n",
        "clf = svm.SVR(kernel = \"rbf\")\n",
        "clf.fit(train_x, train_y)\n",
        "clf.score(test_x, test_y)"
      ],
      "execution_count": 16,
      "outputs": [
        {
          "output_type": "stream",
          "text": [
            "/usr/local/lib/python3.6/dist-packages/sklearn/utils/validation.py:595: DataConversionWarning: Data with input dtype object was converted to float64 by the scale function.\n",
            "  warnings.warn(msg, DataConversionWarning)\n",
            "/usr/local/lib/python3.6/dist-packages/sklearn/svm/base.py:196: FutureWarning: The default value of gamma will change from 'auto' to 'scale' in version 0.22 to account better for unscaled features. Set gamma explicitly to 'auto' or 'scale' to avoid this warning.\n",
            "  \"avoid this warning.\", FutureWarning)\n"
          ],
          "name": "stderr"
        },
        {
          "output_type": "execute_result",
          "data": {
            "text/plain": [
              "0.0"
            ]
          },
          "metadata": {
            "tags": []
          },
          "execution_count": 16
        }
      ]
    },
    {
      "metadata": {
        "id": "nPGX5aaBGNRL",
        "colab_type": "code",
        "outputId": "c175f0e5-24c9-4f09-9d35-ddce7c0cb177",
        "colab": {
          "base_uri": "https://localhost:8080/",
          "height": 35
        }
      },
      "cell_type": "code",
      "source": [
        ""
      ],
      "execution_count": 0,
      "outputs": [
        {
          "output_type": "execute_result",
          "data": {
            "text/plain": [
              "0.0"
            ]
          },
          "metadata": {
            "tags": []
          },
          "execution_count": 30
        }
      ]
    },
    {
      "metadata": {
        "id": "mlx1dP5DGXQv",
        "colab_type": "code",
        "outputId": "0bd1e04b-7918-4cb2-eda8-d75639ba4b06",
        "colab": {
          "base_uri": "https://localhost:8080/",
          "height": 35
        }
      },
      "cell_type": "code",
      "source": [
        ""
      ],
      "execution_count": 0,
      "outputs": [
        {
          "output_type": "execute_result",
          "data": {
            "text/plain": [
              "1.0"
            ]
          },
          "metadata": {
            "tags": []
          },
          "execution_count": 27
        }
      ]
    },
    {
      "metadata": {
        "id": "qaaiYlryHTV5",
        "colab_type": "code",
        "colab": {}
      },
      "cell_type": "code",
      "source": [
        ""
      ],
      "execution_count": 0,
      "outputs": []
    }
  ]
}