{
 "cells": [
  {
   "cell_type": "markdown",
   "metadata": {},
   "source": [
    "k-Nearest Neighbour Classifier using sklearn\n",
    "=================================\n"
   ]
  },
  {
   "cell_type": "code",
   "execution_count": 1,
   "metadata": {},
   "outputs": [],
   "source": [
    "import pandas as pd\n",
    "import numpy as np\n",
    "from matplotlib import pyplot as plt\n",
    "from sklearn.neighbors import KNeighborsClassifier\n",
    "from sklearn.metrics import accuracy_score, confusion_matrix"
   ]
  },
  {
   "cell_type": "code",
   "execution_count": 2,
   "metadata": {},
   "outputs": [],
   "source": [
    "#Loading data and preprocessing\n",
    "url='http://archive.ics.uci.edu/ml/machine-learning-databases/iris/iris.data'\n",
    "df=pd.read_csv(url)\n",
    "df.columns=['sepal_length','sepal_width','petal_length','petal_width','flower_type']\n",
    "df['flower_type'] = df['flower_type'].astype('category')\n",
    "df.flower_type = df.flower_type.cat.rename_categories([0,1,2])\n",
    "D=df.values\n",
    "\n",
    "\n",
    "# Get the labelled set\n",
    "c1=D[:20,:]; c2=D[50:70,:];  c3=D[100:120,:]\n",
    "trainSet = np.concatenate((c1,c2,c3),axis=0)\n",
    "\n",
    "# Get the testing set\n",
    "c1 = D[21:50,:]; c2=D[71:100,:];  c3=D[121:,:]\n",
    "testSet = np.concatenate((c1,c2,c3),axis=0)\n",
    "\n",
    "xTrain=trainSet[:,:-1]; yTrain=trainSet[:,-1]\n",
    "xTest=testSet[:,:-1]; yTest=testSet[:,-1]"
   ]
  },
  {
   "cell_type": "code",
   "execution_count": 3,
   "metadata": {},
   "outputs": [
    {
     "data": {
      "text/plain": [
       "KNeighborsClassifier(algorithm='auto', leaf_size=30, metric='minkowski',\n",
       "           metric_params=None, n_jobs=None, n_neighbors=3, p=2,\n",
       "           weights='uniform')"
      ]
     },
     "execution_count": 3,
     "metadata": {},
     "output_type": "execute_result"
    }
   ],
   "source": [
    "# create a knn classifier with K=3\n",
    "clf = KNeighborsClassifier(n_neighbors=3)\n",
    "clf.fit(xTrain, yTrain.astype(int))"
   ]
  },
  {
   "cell_type": "code",
   "execution_count": 4,
   "metadata": {},
   "outputs": [
    {
     "name": "stdout",
     "output_type": "stream",
     "text": [
      "Accuracy with 3 neighbours:  0.9302325581395349\n"
     ]
    }
   ],
   "source": [
    "# Make predictions\n",
    "\n",
    "#accuracy_score function nije banate hbe\n",
    "yPred=clf.predict(xTest)\n",
    "acc=accuracy_score(yTest.astype(int), yPred.astype(int))\n",
    "print('Accuracy with 3 neighbours: ',acc)"
   ]
  },
  {
   "cell_type": "code",
   "execution_count": 5,
   "metadata": {},
   "outputs": [],
   "source": [
    "#confusion matrix function nije banate hbe\n",
    "def plot_conf_mat(lTrue, lPred, title):\n",
    "    \"\"\" A function for plotting the confusion matrix given true and predicted labels.\"\"\"\n",
    "    cm = confusion_matrix(lTrue.astype(int), lPred.astype(int))\n",
    "    print(cm)\n",
    "    fig = plt.figure()\n",
    "    ax = fig.add_subplot(111)\n",
    "    cax = ax.matshow(cm)\n",
    "    plt.title(title)\n",
    "    plt.xlabel('Predicted')\n",
    "    plt.ylabel('True')\n",
    "    plt.show()    "
   ]
  },
  {
   "cell_type": "code",
   "execution_count": 6,
   "metadata": {},
   "outputs": [
    {
     "name": "stdout",
     "output_type": "stream",
     "text": [
      "[[28  0  0]\n",
      " [ 0 28  1]\n",
      " [ 0  5 24]]\n"
     ]
    },
    {
     "data": {
      "image/png": "[encoded data removed]",
      "text/plain": [
       "<Figure size 432x288 with 1 Axes>"
      ]
     },
     "metadata": {
      "needs_background": "light"
     },
     "output_type": "display_data"
    }
   ],
   "source": [
    "plot_conf_mat(yTest, yPred, 'K=3')"
   ]
  },
  {
   "cell_type": "code",
   "execution_count": null,
   "metadata": {},
   "outputs": [],
   "source": []
  }
 ],
 "metadata": {
  "anaconda-cloud": {},
  "kernelspec": {
   "display_name": "Python 3",
   "language": "python",
   "name": "python3"
  },
  "language_info": {
   "codemirror_mode": {
    "name": "ipython",
    "version": 3
   },
   "file_extension": ".py",
   "mimetype": "text/x-python",
   "name": "python",
   "nbconvert_exporter": "python",
   "pygments_lexer": "ipython3",
   "version": "3.7.1"
  }
 },
 "nbformat": 4,
 "nbformat_minor": 1
}
